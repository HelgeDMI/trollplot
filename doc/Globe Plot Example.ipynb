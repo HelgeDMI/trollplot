{
 "cells": [
  {
   "cell_type": "markdown",
   "metadata": {},
   "source": [
    "## Data Retrival\n",
    "\n",
    "First we need some geolocated data to plot. For this example we use the OSI SAF ice concentration product (http://osisaf.met.no), NetCDF files, which hold ice concentration percentages ranging from zero (= open water) to 100 (= densily packed ice) on a ten-by-ten kilometer grid for the Arctic and the Antarctic."
   ]
  },
  {
   "cell_type": "code",
   "execution_count": 2,
   "metadata": {
    "collapsed": false
   },
   "outputs": [
    {
     "name": "stdout",
     "output_type": "stream",
     "text": [
      "Downloaded  100.0% of 15 MB"
     ]
    }
   ],
   "source": [
    "from datetime import datetime, timedelta\n",
    "from urllib import urlretrieve\n",
    "import sys\n",
    "import os\n",
    "\n",
    "\n",
    "# a pattern for a link to the two files for northern and southern \n",
    "# hemisphere respectively\n",
    "url_pattern = 'ftp://osisaf.met.no/prod/ice/conc/ice_conc_{0}_polstere-100_multi_{1}1200.nc'\n",
    "# we always download the product with yesterday as reference time\n",
    "yesterday = datetime.now() - timedelta(days=1)\n",
    "yesterday_str = datetime.strftime(yesterday, '%Y%m%d')\n",
    "\n",
    "\n",
    "def report_hook(count, block_size, total_size):\n",
    "    # this function is just a progress indicator for the downloads\n",
    "    size_mb = total_size / 1024.0 ** 2\n",
    "    downloaded = min(100, float(count * block_size) / total_size * 100)\n",
    "    msg = '\\rDownloaded % 3.1f%% of %d MB'\n",
    "    sys.stdout.write(msg % (downloaded, size_mb))\n",
    "    sys.stdout.flush()\n",
    "\n",
    "# local_data will hold the files that we downloaded per hemisphere\n",
    "local_data = {}\n",
    "for hemis in ['nh', 'sh']:\n",
    "    url = url_pattern.format(hemis, yesterday_str)\n",
    "    local_file = os.path.join('/tmp', os.path.basename(url))\n",
    "    if not os.path.isfile(local_file):\n",
    "        urlretrieve(url, filename=local_file, reporthook=report_hook)\n",
    "    local_data[hemis] = local_file"
   ]
  },
  {
   "cell_type": "markdown",
   "metadata": {},
   "source": [
    "## Data Reading and Plot Instantiation \n",
    "\n",
    "After downloading the files to a local temporary directory, we read both files and generate a plot instance."
   ]
  },
  {
   "cell_type": "code",
   "execution_count": 3,
   "metadata": {
    "collapsed": false
   },
   "outputs": [],
   "source": [
    "%load_ext autoreload\n",
    "%autoreload 2\n",
    "\n",
    "from netCDF4 import Dataset\n",
    "from globeplot.plotting import GlobePlot\n",
    "\n",
    "# read the data and latitudes and longitudes from the northern hemisphere\n",
    "ds_nh = Dataset(local_data['nh'])\n",
    "lat_nh = ds_nh.variables['lat'][:]\n",
    "lon_nh = ds_nh.variables['lon'][:]\n",
    "values_nh = ds_nh.variables['ice_conc'][0][:]\n",
    "\n",
    "# read the data and latitudes and longitudes from the southern hemisphere\n",
    "ds_sh = Dataset(local_data['sh'])\n",
    "lat_sh = ds_sh.variables['lat'][:]\n",
    "lon_sh = ds_sh.variables['lon'][:]\n",
    "values_sh = ds_sh.variables['ice_conc'][0][:]\n",
    "\n",
    "# reduce the amount of data by not plotting open water (value 0)\n",
    "plot = GlobePlot(lats=lat_nh[values_nh > 0], lons=lon_nh[values_nh > 0], \n",
    "                 data=values_nh[values_nh > 0])\n",
    "\n",
    "# append the reduced data for the southern hemisphere to the plot\n",
    "plot.append(lat_sh[values_sh > 0], lon_sh[values_sh > 0], values_sh[values_sh > 0])"
   ]
  },
  {
   "cell_type": "markdown",
   "metadata": {},
   "source": [
    "## Show the Plots...\n",
    "\n",
    "Finally show the plot in a new tab."
   ]
  },
  {
   "cell_type": "code",
   "execution_count": null,
   "metadata": {
    "collapsed": false
   },
   "outputs": [],
   "source": [
    "# the following information will be displayed in the plot\n",
    "yesterday_str = datetime.strftime(yesterday, '%Y-%m-%d')\n",
    "title = 'OSI SAF Ice Concentration {}'.format(yesterday_str)\n",
    "source = 'ftp://osisaf.met.no'\n",
    "link = 'https://bitbucket.org/ikkjo/globeplot/'"
   ]
  },
  {
   "cell_type": "code",
   "execution_count": null,
   "metadata": {
    "collapsed": true
   },
   "outputs": [],
   "source": [
    "plot.show(title=title, creator='Helge', creator_addr=source, code_link=link)"
   ]
  },
  {
   "cell_type": "markdown",
   "metadata": {},
   "source": [
    "Alternatively, display the plot inlined in a notebook."
   ]
  },
  {
   "cell_type": "code",
   "execution_count": 12,
   "metadata": {
    "collapsed": false
   },
   "outputs": [
    {
     "name": "stdout",
     "output_type": "stream",
     "text": [
      "Starting server on port 8000\n"
     ]
    },
    {
     "data": {
      "text/html": [
       "<iframe height=600 width=100%, src=\"http://localhost:8000/\"></iframe>"
      ],
      "text/plain": [
       "<IPython.core.display.HTML object>"
      ]
     },
     "metadata": {},
     "output_type": "display_data"
    },
    {
     "name": "stdout",
     "output_type": "stream",
     "text": [
      "Will stop server in 4 seconds\n",
      "Stopping server on port 8000\n"
     ]
    },
    {
     "name": "stderr",
     "output_type": "stream",
     "text": [
      "127.0.0.1 - - [06/Jun/2016 21:38:43] \"GET / HTTP/1.1\" 200 -\n"
     ]
    }
   ],
   "source": [
    "plot.display(title=title, creator='Helge', creator_addr=source, code_link=link)"
   ]
  },
  {
   "cell_type": "code",
   "execution_count": null,
   "metadata": {
    "collapsed": true
   },
   "outputs": [],
   "source": []
  }
 ],
 "metadata": {
  "kernelspec": {
   "display_name": "Python 2",
   "language": "python",
   "name": "python2"
  },
  "language_info": {
   "codemirror_mode": {
    "name": "ipython",
    "version": 2
   },
   "file_extension": ".py",
   "mimetype": "text/x-python",
   "name": "python",
   "nbconvert_exporter": "python",
   "pygments_lexer": "ipython2",
   "version": "2.7.11"
  }
 },
 "nbformat": 4,
 "nbformat_minor": 0
}
